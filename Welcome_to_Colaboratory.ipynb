{
  "cells": [
    {
      "cell_type": "markdown",
      "metadata": {
        "id": "view-in-github",
        "colab_type": "text"
      },
      "source": [
        "<a href=\"https://colab.research.google.com/github/geniusrusho/Datasets/blob/master/Welcome_to_Colaboratory.ipynb\" target=\"_parent\"><img src=\"https://colab.research.google.com/assets/colab-badge.svg\" alt=\"Open In Colab\"/></a>"
      ]
    },
    {
      "cell_type": "code",
      "source": [
        "message = input(\"Tell me something\")\n",
        "print(message)"
      ],
      "metadata": {
        "id": "YgsJkFSI3eW_",
        "outputId": "53d8ad0e-9365-42c2-a4d4-13201b354d45",
        "colab": {
          "base_uri": "https://localhost:8080/"
        }
      },
      "execution_count": 1,
      "outputs": [
        {
          "output_type": "stream",
          "name": "stdout",
          "text": [
            "Tell me somethingHi I am Rusho\n",
            "Hi I am Rusho\n"
          ]
        }
      ]
    },
    {
      "cell_type": "code",
      "source": [
        "name = input(\"your name:\")\n",
        "print(f\"\\nHello,{name}!\")\n"
      ],
      "metadata": {
        "id": "YfhK5v4l4Oj0",
        "outputId": "b92eed4e-ca54-4d5c-eb23-c5c2b744f526",
        "colab": {
          "base_uri": "https://localhost:8080/"
        }
      },
      "execution_count": 3,
      "outputs": [
        {
          "output_type": "stream",
          "name": "stdout",
          "text": [
            "your name:Rusho\n",
            "\n",
            "Hello,Rusho!\n"
          ]
        }
      ]
    },
    {
      "cell_type": "code",
      "source": [
        "prompt = \"if you tell us who you are , we can personalize you\"\n",
        "prompt+= \"\\n your name please\"\n",
        "name = input(prompt)\n",
        "print(f\"\\nHello,{name}!\")"
      ],
      "metadata": {
        "id": "PDGl6Cqx4wtw",
        "outputId": "18a9d180-3b87-4a5b-ea0f-f0f97f1f399b",
        "colab": {
          "base_uri": "https://localhost:8080/"
        }
      },
      "execution_count": 4,
      "outputs": [
        {
          "output_type": "stream",
          "name": "stdout",
          "text": [
            "if you tell us who you are , we can personalize you\n",
            " your name pleaseMaher Ali Rusho\n",
            "\n",
            "Hello,Maher Ali Rusho!\n"
          ]
        }
      ]
    },
    {
      "cell_type": "code",
      "source": [
        "age = input(\"your age\")\n",
        "print(age)"
      ],
      "metadata": {
        "id": "GJiN-tn65U69",
        "outputId": "bd5d239e-59ac-4469-e664-a649244a7c8e",
        "colab": {
          "base_uri": "https://localhost:8080/"
        }
      },
      "execution_count": 5,
      "outputs": [
        {
          "output_type": "stream",
          "name": "stdout",
          "text": [
            "your age15\n",
            "15\n"
          ]
        }
      ]
    },
    {
      "cell_type": "code",
      "source": [
        "height = input(\"How tall are you,in inches\")\n",
        "height = int(height)\n",
        "if height>=48:\n",
        "  print(\"\\nYou are tall enough to ride!\")\n",
        "  print(\"\\nYou're tall enough to ride\")\n",
        "  "
      ],
      "metadata": {
        "id": "xwZox8kZ5juJ",
        "outputId": "b630af9f-64ad-4307-a6a3-e696421de125",
        "colab": {
          "base_uri": "https://localhost:8080/"
        }
      },
      "execution_count": 8,
      "outputs": [
        {
          "name": "stdout",
          "output_type": "stream",
          "text": [
            "How tall are you,in inches47\n"
          ]
        }
      ]
    },
    {
      "cell_type": "code",
      "source": [
        "current_number = 1\n",
        "while current_number <=5:\n",
        "  print(current_number)\n",
        "  current_number+=1"
      ],
      "metadata": {
        "id": "DsKpIs6L8x2s",
        "outputId": "f501ce21-a005-4844-9fdc-8f6a773885d7",
        "colab": {
          "base_uri": "https://localhost:8080/"
        }
      },
      "execution_count": 12,
      "outputs": [
        {
          "output_type": "stream",
          "name": "stdout",
          "text": [
            "1\n",
            "2\n",
            "3\n",
            "4\n",
            "5\n"
          ]
        }
      ]
    },
    {
      "cell_type": "code",
      "source": [
        "current_number = 1\n",
        "while current_number <= 5:\n",
        "  print(current_number)\n",
        "  current_number+=1"
      ],
      "metadata": {
        "id": "FrDjrUan9J7x",
        "outputId": "36152c15-ab64-4add-c56b-965f84519bbe",
        "colab": {
          "base_uri": "https://localhost:8080/"
        }
      },
      "execution_count": 13,
      "outputs": [
        {
          "output_type": "stream",
          "name": "stdout",
          "text": [
            "1\n",
            "2\n",
            "3\n",
            "4\n",
            "5\n"
          ]
        }
      ]
    },
    {
      "cell_type": "code",
      "source": [
        "prompt = \"\\n tell me something!!!\"\n",
        "prompt += \"\\enter 'quit' to end the program\"\n",
        "message = \"\"\n",
        "while message !='quit':\n",
        "  message = input(prompt)\n",
        "  print(message)"
      ],
      "metadata": {
        "id": "z8rHwTPp9f_P",
        "outputId": "62dc412f-480c-4fa7-ad98-6df06d8b48f6",
        "colab": {
          "base_uri": "https://localhost:8080/"
        }
      },
      "execution_count": 15,
      "outputs": [
        {
          "output_type": "stream",
          "name": "stdout",
          "text": [
            "\n",
            " tell me something!!!\\enter 'quit' to end the programquit\n",
            "quit\n"
          ]
        }
      ]
    },
    {
      "cell_type": "code",
      "source": [
        "prompt = \"\\n Tell me something, and I will repeat it back to you!!!!!\"\n",
        "prompt += \"\\nEnter'quit'to end the program\"\n",
        "\n",
        "active = True\n",
        "while active:\n",
        "  message = input(prompt)\n",
        "  if message=='quit':\n",
        "    active = False\n",
        "else:\n",
        "    print(message)\n",
        "\n"
      ],
      "metadata": {
        "id": "UJAZ0jfK-2_g",
        "outputId": "2cf5d086-80bf-44ec-c634-d9f7d07d0ca1",
        "colab": {
          "base_uri": "https://localhost:8080/"
        }
      },
      "execution_count": 19,
      "outputs": [
        {
          "output_type": "stream",
          "name": "stdout",
          "text": [
            "\n",
            " Tell me something, and I will repeat it back to you!!!!!\n",
            "Enter'quit'to end the programtumi\n",
            "\n",
            " Tell me something, and I will repeat it back to you!!!!!\n",
            "Enter'quit'to end the programquit \n",
            "\n",
            " Tell me something, and I will repeat it back to you!!!!!\n",
            "Enter'quit'to end the programquit\n",
            "quit\n"
          ]
        }
      ]
    },
    {
      "cell_type": "code",
      "source": [
        "prompt = \"\\n Please enter a city:\"\n",
        "prompt += \"\\n(enter 'quit')\"\n",
        "while True:\n",
        "  city = input(prompt)\n",
        "\n",
        "  if city =='quit':\n",
        "    break\n",
        "    "
      ],
      "metadata": {
        "id": "5leIU4GTAJuq"
      },
      "execution_count": null,
      "outputs": []
    },
    {
      "cell_type": "code",
      "source": [
        "prompt = \"\\nplease enter the name of a city you have visited :\"\n",
        "prompt +=\"\\n(Enter 'quit' when \""
      ],
      "metadata": {
        "id": "3l3Y1OcMCqeS"
      },
      "execution_count": null,
      "outputs": []
    }
  ],
  "metadata": {
    "colab": {
      "name": "Welcome to Colaboratory",
      "toc_visible": true,
      "provenance": [],
      "include_colab_link": true
    },
    "kernelspec": {
      "display_name": "Python 3",
      "name": "python3"
    }
  },
  "nbformat": 4,
  "nbformat_minor": 0
}